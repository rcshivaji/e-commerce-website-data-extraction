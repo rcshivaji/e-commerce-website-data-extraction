{
 "cells": [
  {
   "cell_type": "markdown",
   "metadata": {},
   "source": [
    "# Data Collection from Flipkart"
   ]
  },
  {
   "cell_type": "code",
   "execution_count": 1,
   "metadata": {},
   "outputs": [],
   "source": [
    "#importing libraries\n",
    "from selenium import webdriver\n",
    "from bs4 import BeautifulSoup"
   ]
  },
  {
   "cell_type": "code",
   "execution_count": 2,
   "metadata": {},
   "outputs": [],
   "source": [
    "driver=webdriver.Chrome(\"chromedriver.exe\")"
   ]
  },
  {
   "cell_type": "code",
   "execution_count": 3,
   "metadata": {},
   "outputs": [],
   "source": [
    "#full list of pages you want to scrape\n",
    "pages=[\"https://www.flipkart.com/laptops/pr?sid=6bo%2Cb5g&p%5B%5D=facets.processor%255B%255D%3DCore%2Bi5&pageUID=1591711874987&otracker=clp_metro_expandable_2_32.metroExpandable.METRO_EXPANDABLE_i5_laptops-store_32W7H5NMHFBQ_wp16&fm=neo%2Fmerchandising&iid=M_61e23960-eda8-4178-bdbc-6bdf00e0bc39_32.32W7H5NMHFBQ&ppt=clp&ppn=laptops-store&ssid=44d452czs00000001602750012860\",\n",
    "      \"https://www.flipkart.com/laptops/pr?sid=6bo%2Cb5g&p%5B%5D=facets.processor%255B%255D%3DCore%2Bi5&pageUID=1591711874987&otracker=clp_metro_expandable_2_32.metroExpandable.METRO_EXPANDABLE_i5_laptops-store_32W7H5NMHFBQ_wp16&fm=neo%2Fmerchandising&iid=M_61e23960-eda8-4178-bdbc-6bdf00e0bc39_32.32W7H5NMHFBQ&ppt=clp&ppn=laptops-store&ssid=44d452czs00000001602750012860&page=2\",\n",
    "      \"https://www.flipkart.com/laptops/pr?sid=6bo%2Cb5g&p%5B%5D=facets.processor%255B%255D%3DCore%2Bi5&pageUID=1591711874987&otracker=clp_metro_expandable_2_32.metroExpandable.METRO_EXPANDABLE_i5_laptops-store_32W7H5NMHFBQ_wp16&fm=neo%2Fmerchandising&iid=M_61e23960-eda8-4178-bdbc-6bdf00e0bc39_32.32W7H5NMHFBQ&ppt=clp&ppn=laptops-store&ssid=44d452czs00000001602750012860&page=3\",\n",
    "      \"https://www.flipkart.com/laptops/pr?sid=6bo%2Cb5g&p%5B%5D=facets.processor%255B%255D%3DCore%2Bi5&pageUID=1591711874987&otracker=clp_metro_expandable_2_32.metroExpandable.METRO_EXPANDABLE_i5_laptops-store_32W7H5NMHFBQ_wp16&fm=neo%2Fmerchandising&iid=M_61e23960-eda8-4178-bdbc-6bdf00e0bc39_32.32W7H5NMHFBQ&ppt=clp&ppn=laptops-store&ssid=44d452czs00000001602750012860&page=4\",\n",
    "      \"https://www.flipkart.com/laptops/pr?sid=6bo%2Cb5g&p%5B%5D=facets.processor%255B%255D%3DCore%2Bi5&pageUID=1591711874987&otracker=clp_metro_expandable_2_32.metroExpandable.METRO_EXPANDABLE_i5_laptops-store_32W7H5NMHFBQ_wp16&fm=neo%2Fmerchandising&iid=M_61e23960-eda8-4178-bdbc-6bdf00e0bc39_32.32W7H5NMHFBQ&ppt=clp&ppn=laptops-store&ssid=44d452czs00000001602750012860&page=5\",\n",
    "      \"https://www.flipkart.com/laptops/pr?sid=6bo%2Cb5g&p%5B%5D=facets.processor%255B%255D%3DCore%2Bi5&pageUID=1591711874987&otracker=clp_metro_expandable_2_32.metroExpandable.METRO_EXPANDABLE_i5_laptops-store_32W7H5NMHFBQ_wp16&fm=neo%2Fmerchandising&iid=M_61e23960-eda8-4178-bdbc-6bdf00e0bc39_32.32W7H5NMHFBQ&ppt=clp&ppn=laptops-store&ssid=44d452czs00000001602750012860&page=6\",\n",
    "      \"https://www.flipkart.com/laptops/pr?sid=6bo%2Cb5g&p%5B%5D=facets.processor%255B%255D%3DCore%2Bi5&pageUID=1591711874987&otracker=clp_metro_expandable_2_32.metroExpandable.METRO_EXPANDABLE_i5_laptops-store_32W7H5NMHFBQ_wp16&fm=neo%2Fmerchandising&iid=M_61e23960-eda8-4178-bdbc-6bdf00e0bc39_32.32W7H5NMHFBQ&ppt=clp&ppn=laptops-store&ssid=44d452czs00000001602750012860&page=7\",\n",
    "      \"https://www.flipkart.com/laptops/pr?sid=6bo%2Cb5g&p%5B%5D=facets.processor%255B%255D%3DCore%2Bi5&pageUID=1591711874987&otracker=clp_metro_expandable_2_32.metroExpandable.METRO_EXPANDABLE_i5_laptops-store_32W7H5NMHFBQ_wp16&fm=neo%2Fmerchandising&iid=M_61e23960-eda8-4178-bdbc-6bdf00e0bc39_32.32W7H5NMHFBQ&ppt=clp&ppn=laptops-store&ssid=44d452czs00000001602750012860&page=8\",\n",
    "      \"https://www.flipkart.com/laptops/pr?sid=6bo%2Cb5g&p%5B%5D=facets.processor%255B%255D%3DCore%2Bi5&pageUID=1591711874987&otracker=clp_metro_expandable_2_32.metroExpandable.METRO_EXPANDABLE_i5_laptops-store_32W7H5NMHFBQ_wp16&fm=neo%2Fmerchandising&iid=M_61e23960-eda8-4178-bdbc-6bdf00e0bc39_32.32W7H5NMHFBQ&ppt=clp&ppn=laptops-store&ssid=44d452czs00000001602750012860&page=9\",\n",
    "      \"https://www.flipkart.com/laptops/pr?sid=6bo%2Cb5g&p%5B%5D=facets.processor%255B%255D%3DCore%2Bi5&pageUID=1591711874987&otracker=clp_metro_expandable_2_32.metroExpandable.METRO_EXPANDABLE_i5_laptops-store_32W7H5NMHFBQ_wp16&fm=neo%2Fmerchandising&iid=M_61e23960-eda8-4178-bdbc-6bdf00e0bc39_32.32W7H5NMHFBQ&ppt=clp&ppn=laptops-store&ssid=44d452czs00000001602750012860&page=10\",\n",
    "      \"https://www.flipkart.com/laptops/pr?sid=6bo%2Cb5g&p%5B%5D=facets.processor%255B%255D%3DCore%2Bi5&pageUID=1591711874987&otracker=clp_metro_expandable_2_32.metroExpandable.METRO_EXPANDABLE_i5_laptops-store_32W7H5NMHFBQ_wp16&fm=neo%2Fmerchandising&iid=M_61e23960-eda8-4178-bdbc-6bdf00e0bc39_32.32W7H5NMHFBQ&ppt=clp&ppn=laptops-store&ssid=44d452czs00000001602750012860&page=11\",\n",
    "      \"https://www.flipkart.com/laptops/pr?sid=6bo%2Cb5g&p%5B%5D=facets.processor%255B%255D%3DCore%2Bi5&pageUID=1591711874987&otracker=clp_metro_expandable_2_32.metroExpandable.METRO_EXPANDABLE_i5_laptops-store_32W7H5NMHFBQ_wp16&fm=neo%2Fmerchandising&iid=M_61e23960-eda8-4178-bdbc-6bdf00e0bc39_32.32W7H5NMHFBQ&ppt=clp&ppn=laptops-store&ssid=44d452czs00000001602750012860&page=12\",\n",
    "      \"https://www.flipkart.com/laptops/pr?sid=6bo%2Cb5g&p%5B%5D=facets.processor%255B%255D%3DCore%2Bi5&pageUID=1591711874987&otracker=clp_metro_expandable_2_32.metroExpandable.METRO_EXPANDABLE_i5_laptops-store_32W7H5NMHFBQ_wp16&fm=neo%2Fmerchandising&iid=M_61e23960-eda8-4178-bdbc-6bdf00e0bc39_32.32W7H5NMHFBQ&ppt=clp&ppn=laptops-store&ssid=44d452czs00000001602750012860&page=13\"]"
   ]
  },
  {
   "cell_type": "code",
   "execution_count": 13,
   "metadata": {},
   "outputs": [],
   "source": [
    "# Create lists for storing the fetched data\n",
    "\n",
    "products=[] #For Name of products\n",
    "prices=[] # For product prices\n",
    "ratings=[] # For storing ratings\n",
    "revs=[] # For calculation processes\n",
    "nratings=[] #For number of ratings\n",
    "nreviews=[] #For number of reviews"
   ]
  },
  {
   "cell_type": "code",
   "execution_count": 14,
   "metadata": {},
   "outputs": [],
   "source": [
    "#Code for data scraping\n",
    "for j in range(len(pages)):\n",
    "    driver.get(pages[j])\n",
    "    content=driver.page_source\n",
    "    soup=BeautifulSoup(content)\n",
    "    for a in soup.findAll('a',href=True,attrs={'class':'_31qSD5'}):\n",
    "        name=a.find('div',attrs={'class':'_3wU53n'})\n",
    "        price=a.find('div',attrs={'class':'_1vC4OE _2rQ-NK'})\n",
    "        rating=a.find('div',attrs={'class':'hGSR34'})\n",
    "        rev=a.find('span',attrs={'class':'_38sUEc'}) # This code is to collect info from the line containing the number of reviews.\n",
    "        products.append(name.text)\n",
    "        prices.append(price.text)\n",
    "        ratings.append(rating)\n",
    "        revs.append(rev)"
   ]
  },
  {
   "cell_type": "markdown",
   "metadata": {},
   "source": [
    "# Data Preprocessing"
   ]
  },
  {
   "cell_type": "code",
   "execution_count": 15,
   "metadata": {},
   "outputs": [],
   "source": [
    "#Correcting the price column..Removing Rupee symbol and converting to float\n",
    "for i in range(len(prices)):\n",
    "    prices[i]=float(prices[i][1:].replace(',',''))"
   ]
  },
  {
   "cell_type": "code",
   "execution_count": 16,
   "metadata": {},
   "outputs": [],
   "source": [
    "#Extracting the rating and converting it to float\n",
    "for i in range(len(ratings)):\n",
    "    ratings[i]=str(ratings[i])[20:23]\n",
    "for i in range(len(ratings)):\n",
    "    if ratings[i]=='':\n",
    "        ratings[i]=0.0\n",
    "    elif ratings[i][1]==\"<\" or ratings[i]==\"1nL\":\n",
    "        ratings[i]=float(ratings[i][0])\n",
    "    else:\n",
    "        ratings[i]=float(ratings[i])"
   ]
  },
  {
   "cell_type": "code",
   "execution_count": 17,
   "metadata": {},
   "outputs": [],
   "source": [
    "#Extracting number of reviews and number of ratings and converting them to float\n",
    "for i in range(len(revs)):\n",
    "    if str(revs[i])!=\"None\":\n",
    "        a=str(revs[i])[34:str(revs[i]).index(' ',34)]\n",
    "        b=56+len(a)\n",
    "        ind1=str(revs[i]).index(\"<span>\",b)+7\n",
    "        ind2=str(revs[i]).index(' ',ind1)\n",
    "        nratings.append(a)\n",
    "        nreviews.append(str(revs[i])[ind1:ind2])\n",
    "    else:\n",
    "        nratings.append('0')\n",
    "        nreviews.append('0')\n",
    "\n",
    "for i in range(len(nratings)):\n",
    "        nratings[i]=int(nratings[i].replace(',',''))\n",
    "        nreviews[i]=int(nreviews[i].replace(',',''))"
   ]
  },
  {
   "cell_type": "markdown",
   "metadata": {},
   "source": [
    "# Dataset creation and statistical visualization"
   ]
  },
  {
   "cell_type": "code",
   "execution_count": 18,
   "metadata": {},
   "outputs": [],
   "source": [
    "import pandas as pd"
   ]
  },
  {
   "cell_type": "code",
   "execution_count": 19,
   "metadata": {},
   "outputs": [],
   "source": [
    "df=pd.DataFrame({'Product Name':products,'Price':prices,'Ratings':ratings,'Number of Ratings':nratings,'Number of Reviews':nreviews})"
   ]
  },
  {
   "cell_type": "code",
   "execution_count": 20,
   "metadata": {},
   "outputs": [
    {
     "data": {
      "text/html": [
       "<div>\n",
       "<style scoped>\n",
       "    .dataframe tbody tr th:only-of-type {\n",
       "        vertical-align: middle;\n",
       "    }\n",
       "\n",
       "    .dataframe tbody tr th {\n",
       "        vertical-align: top;\n",
       "    }\n",
       "\n",
       "    .dataframe thead th {\n",
       "        text-align: right;\n",
       "    }\n",
       "</style>\n",
       "<table border=\"1\" class=\"dataframe\">\n",
       "  <thead>\n",
       "    <tr style=\"text-align: right;\">\n",
       "      <th></th>\n",
       "      <th>Product Name</th>\n",
       "      <th>Price</th>\n",
       "      <th>Ratings</th>\n",
       "      <th>Number of Ratings</th>\n",
       "      <th>Number of Reviews</th>\n",
       "    </tr>\n",
       "  </thead>\n",
       "  <tbody>\n",
       "    <tr>\n",
       "      <th>0</th>\n",
       "      <td>Acer Aspire 7 Core i5 9th Gen - (8 GB/512 GB S...</td>\n",
       "      <td>59990.0</td>\n",
       "      <td>4.4</td>\n",
       "      <td>138</td>\n",
       "      <td>25</td>\n",
       "    </tr>\n",
       "    <tr>\n",
       "      <th>1</th>\n",
       "      <td>Acer Swift 7 Core i5 7th Gen - (8 GB/256 GB SS...</td>\n",
       "      <td>69990.0</td>\n",
       "      <td>4.5</td>\n",
       "      <td>37</td>\n",
       "      <td>4</td>\n",
       "    </tr>\n",
       "    <tr>\n",
       "      <th>2</th>\n",
       "      <td>Acer Aspire 7 Core i5 9th Gen - (8 GB/512 GB S...</td>\n",
       "      <td>49990.0</td>\n",
       "      <td>4.5</td>\n",
       "      <td>4654</td>\n",
       "      <td>898</td>\n",
       "    </tr>\n",
       "    <tr>\n",
       "      <th>3</th>\n",
       "      <td>Dell Vostro Core i5 10th Gen - (8 GB/1 TB HDD/...</td>\n",
       "      <td>48990.0</td>\n",
       "      <td>4.2</td>\n",
       "      <td>886</td>\n",
       "      <td>137</td>\n",
       "    </tr>\n",
       "    <tr>\n",
       "      <th>4</th>\n",
       "      <td>Apple MacBook Air Core i5 5th Gen - (8 GB/128 ...</td>\n",
       "      <td>59990.0</td>\n",
       "      <td>4.7</td>\n",
       "      <td>25470</td>\n",
       "      <td>2862</td>\n",
       "    </tr>\n",
       "    <tr>\n",
       "      <th>...</th>\n",
       "      <td>...</td>\n",
       "      <td>...</td>\n",
       "      <td>...</td>\n",
       "      <td>...</td>\n",
       "      <td>...</td>\n",
       "    </tr>\n",
       "    <tr>\n",
       "      <th>274</th>\n",
       "      <td>HP Pavilion Core i5 10th Gen - (8 GB/1 TB HDD/...</td>\n",
       "      <td>69990.0</td>\n",
       "      <td>4.3</td>\n",
       "      <td>152</td>\n",
       "      <td>19</td>\n",
       "    </tr>\n",
       "    <tr>\n",
       "      <th>275</th>\n",
       "      <td>Dell G3 Core i5 8th Gen - (8 GB/512 GB SSD/Win...</td>\n",
       "      <td>67402.0</td>\n",
       "      <td>4.4</td>\n",
       "      <td>222</td>\n",
       "      <td>37</td>\n",
       "    </tr>\n",
       "    <tr>\n",
       "      <th>276</th>\n",
       "      <td>Lenovo ThinkPad E14 Core i5 10th Gen - (8 GB/5...</td>\n",
       "      <td>85500.0</td>\n",
       "      <td>0.0</td>\n",
       "      <td>0</td>\n",
       "      <td>0</td>\n",
       "    </tr>\n",
       "    <tr>\n",
       "      <th>277</th>\n",
       "      <td>Lenovo Core i5 10th Gen - (8 GB/256 GB SSD/Win...</td>\n",
       "      <td>74900.0</td>\n",
       "      <td>0.0</td>\n",
       "      <td>0</td>\n",
       "      <td>0</td>\n",
       "    </tr>\n",
       "    <tr>\n",
       "      <th>278</th>\n",
       "      <td>Lenovo Core i5 10th Gen - (8 GB/500 GB SSD/DOS...</td>\n",
       "      <td>65500.0</td>\n",
       "      <td>0.0</td>\n",
       "      <td>0</td>\n",
       "      <td>0</td>\n",
       "    </tr>\n",
       "  </tbody>\n",
       "</table>\n",
       "<p>279 rows × 5 columns</p>\n",
       "</div>"
      ],
      "text/plain": [
       "                                          Product Name    Price  Ratings  \\\n",
       "0    Acer Aspire 7 Core i5 9th Gen - (8 GB/512 GB S...  59990.0      4.4   \n",
       "1    Acer Swift 7 Core i5 7th Gen - (8 GB/256 GB SS...  69990.0      4.5   \n",
       "2    Acer Aspire 7 Core i5 9th Gen - (8 GB/512 GB S...  49990.0      4.5   \n",
       "3    Dell Vostro Core i5 10th Gen - (8 GB/1 TB HDD/...  48990.0      4.2   \n",
       "4    Apple MacBook Air Core i5 5th Gen - (8 GB/128 ...  59990.0      4.7   \n",
       "..                                                 ...      ...      ...   \n",
       "274  HP Pavilion Core i5 10th Gen - (8 GB/1 TB HDD/...  69990.0      4.3   \n",
       "275  Dell G3 Core i5 8th Gen - (8 GB/512 GB SSD/Win...  67402.0      4.4   \n",
       "276  Lenovo ThinkPad E14 Core i5 10th Gen - (8 GB/5...  85500.0      0.0   \n",
       "277  Lenovo Core i5 10th Gen - (8 GB/256 GB SSD/Win...  74900.0      0.0   \n",
       "278  Lenovo Core i5 10th Gen - (8 GB/500 GB SSD/DOS...  65500.0      0.0   \n",
       "\n",
       "     Number of Ratings  Number of Reviews  \n",
       "0                  138                 25  \n",
       "1                   37                  4  \n",
       "2                 4654                898  \n",
       "3                  886                137  \n",
       "4                25470               2862  \n",
       "..                 ...                ...  \n",
       "274                152                 19  \n",
       "275                222                 37  \n",
       "276                  0                  0  \n",
       "277                  0                  0  \n",
       "278                  0                  0  \n",
       "\n",
       "[279 rows x 5 columns]"
      ]
     },
     "execution_count": 20,
     "metadata": {},
     "output_type": "execute_result"
    }
   ],
   "source": [
    "df"
   ]
  },
  {
   "cell_type": "code",
   "execution_count": 21,
   "metadata": {},
   "outputs": [
    {
     "data": {
      "text/html": [
       "<div>\n",
       "<style scoped>\n",
       "    .dataframe tbody tr th:only-of-type {\n",
       "        vertical-align: middle;\n",
       "    }\n",
       "\n",
       "    .dataframe tbody tr th {\n",
       "        vertical-align: top;\n",
       "    }\n",
       "\n",
       "    .dataframe thead th {\n",
       "        text-align: right;\n",
       "    }\n",
       "</style>\n",
       "<table border=\"1\" class=\"dataframe\">\n",
       "  <thead>\n",
       "    <tr style=\"text-align: right;\">\n",
       "      <th></th>\n",
       "      <th>Price</th>\n",
       "      <th>Ratings</th>\n",
       "      <th>Number of Ratings</th>\n",
       "      <th>Number of Reviews</th>\n",
       "    </tr>\n",
       "  </thead>\n",
       "  <tbody>\n",
       "    <tr>\n",
       "      <th>count</th>\n",
       "      <td>279.000000</td>\n",
       "      <td>279.000000</td>\n",
       "      <td>279.000000</td>\n",
       "      <td>279.000000</td>\n",
       "    </tr>\n",
       "    <tr>\n",
       "      <th>mean</th>\n",
       "      <td>70740.939068</td>\n",
       "      <td>2.803584</td>\n",
       "      <td>594.200717</td>\n",
       "      <td>95.118280</td>\n",
       "    </tr>\n",
       "    <tr>\n",
       "      <th>std</th>\n",
       "      <td>25285.614587</td>\n",
       "      <td>2.089074</td>\n",
       "      <td>2281.711593</td>\n",
       "      <td>322.401952</td>\n",
       "    </tr>\n",
       "    <tr>\n",
       "      <th>min</th>\n",
       "      <td>34990.000000</td>\n",
       "      <td>0.000000</td>\n",
       "      <td>0.000000</td>\n",
       "      <td>0.000000</td>\n",
       "    </tr>\n",
       "    <tr>\n",
       "      <th>25%</th>\n",
       "      <td>55434.000000</td>\n",
       "      <td>0.000000</td>\n",
       "      <td>0.000000</td>\n",
       "      <td>0.000000</td>\n",
       "    </tr>\n",
       "    <tr>\n",
       "      <th>50%</th>\n",
       "      <td>64990.000000</td>\n",
       "      <td>4.200000</td>\n",
       "      <td>26.000000</td>\n",
       "      <td>4.000000</td>\n",
       "    </tr>\n",
       "    <tr>\n",
       "      <th>75%</th>\n",
       "      <td>76490.000000</td>\n",
       "      <td>4.400000</td>\n",
       "      <td>138.000000</td>\n",
       "      <td>25.000000</td>\n",
       "    </tr>\n",
       "    <tr>\n",
       "      <th>max</th>\n",
       "      <td>190990.000000</td>\n",
       "      <td>5.000000</td>\n",
       "      <td>25470.000000</td>\n",
       "      <td>2862.000000</td>\n",
       "    </tr>\n",
       "  </tbody>\n",
       "</table>\n",
       "</div>"
      ],
      "text/plain": [
       "               Price     Ratings  Number of Ratings  Number of Reviews\n",
       "count     279.000000  279.000000         279.000000         279.000000\n",
       "mean    70740.939068    2.803584         594.200717          95.118280\n",
       "std     25285.614587    2.089074        2281.711593         322.401952\n",
       "min     34990.000000    0.000000           0.000000           0.000000\n",
       "25%     55434.000000    0.000000           0.000000           0.000000\n",
       "50%     64990.000000    4.200000          26.000000           4.000000\n",
       "75%     76490.000000    4.400000         138.000000          25.000000\n",
       "max    190990.000000    5.000000       25470.000000        2862.000000"
      ]
     },
     "execution_count": 21,
     "metadata": {},
     "output_type": "execute_result"
    }
   ],
   "source": [
    "df.describe()"
   ]
  },
  {
   "cell_type": "code",
   "execution_count": 22,
   "metadata": {},
   "outputs": [],
   "source": [
    "df.to_csv(\"dataset.csv\")"
   ]
  }
 ],
 "metadata": {
  "kernelspec": {
   "display_name": "Python 3",
   "language": "python",
   "name": "python3"
  },
  "language_info": {
   "codemirror_mode": {
    "name": "ipython",
    "version": 3
   },
   "file_extension": ".py",
   "mimetype": "text/x-python",
   "name": "python",
   "nbconvert_exporter": "python",
   "pygments_lexer": "ipython3",
   "version": "3.7.6"
  }
 },
 "nbformat": 4,
 "nbformat_minor": 4
}
